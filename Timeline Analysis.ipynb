{
 "cells": [
  {
   "cell_type": "code",
   "execution_count": 3,
   "id": "3535bf36",
   "metadata": {},
   "outputs": [
    {
     "name": "stdout",
     "output_type": "stream",
     "text": [
      "1000\n"
     ]
    }
   ],
   "source": [
    "import pickle\n",
    "\n",
    "with open('timelines_bronze.pkl', 'rb') as f:\n",
    "    bronze = pickle.load(f)\n",
    "with open('timelines_grandmaster.pkl', 'rb') as f:\n",
    "    grand = pickle.load(f)\n",
    "print(len(grand))"
   ]
  },
  {
   "cell_type": "code",
   "execution_count": 20,
   "id": "236ca088",
   "metadata": {},
   "outputs": [
    {
     "data": {
      "text/plain": [
       "{'dataVersion': '2',\n",
       " 'matchId': 'BR1_2397364036',\n",
       " 'participants': ['MvkZQiwT9rdG7Qb2ao66fq7XK4EbAjMh3wVhbQfENgkied8X5-jQa0XphZJJYdd1lfeAM6BoO8CArg',\n",
       "  'T86CboFI6avIh9GEEp7eq3BrbtFIceGh13rmb9GKhwXC2f-MM-YJlW5FABN9zL3BY8Q_AtKCWeoFZg',\n",
       "  '3xaJCKGz7UGuHGdcpH53yXKWv7c6yr6ymyedFth-muxe4GVoKDeZ-F2dULQ1RYtzEATwdOElcOWucw',\n",
       "  '3XjJv5ZG9_ewVTOW7ec9QeIKt8dqINlwAxFzeDQFvulIYoMpVVcEQCmfLTy30Zb3gPlOiG1vIHQyfw',\n",
       "  '_HI6gHOe26_vPmO8Y72Z6qV8M3jTHiY66s5_ubocbG6ZMsvoUk6ne2RGb10tzcIIWHq8a4I02-ZFMg',\n",
       "  'iEmkVwgs7RISAJxfCaCS0urJYbM0s17qh0Fwu-_Ax-TVxyjZ6kIsSB-vYOpDS5M-eijtOqp4Vl9T2w',\n",
       "  '6SOXgkuMu-yeP9dIIOJdz-rNI6Cgn-DC3i50ucWsuv09qw3nevsKbA5nNw3AQ1qhdVgrVV96FGpQUQ',\n",
       "  'ZrmHers2yMUlTx6EP8fDRASPtCUywe0OhhRgsS0w8qPSyOZ2o1M9FlPpRYAeb9Sjyznocb384Y33BA',\n",
       "  'w4GK0WdWP-2oJOqChXBTDxcAPO5H5E0rK59tKOBZO7mDgKRGkB1sw4_anVveIBsWJx2LjB_WWjZffQ',\n",
       "  'pezRvdkemZqI186iNVfNIuSMVkGypgzYefUbtVZ3GPReo_2_lGcSq1xcM0ADDQ53X-ED42gDfIYaww']}"
      ]
     },
     "execution_count": 20,
     "metadata": {},
     "output_type": "execute_result"
    }
   ],
   "source": [
    "grand[500][\"metadata\"]"
   ]
  },
  {
   "cell_type": "code",
   "execution_count": 1,
   "id": "63e58a27",
   "metadata": {},
   "outputs": [
    {
     "ename": "NameError",
     "evalue": "name 'grand' is not defined",
     "output_type": "error",
     "traceback": [
      "\u001b[1;31m---------------------------------------------------------------------------\u001b[0m",
      "\u001b[1;31mNameError\u001b[0m                                 Traceback (most recent call last)",
      "\u001b[1;32m~\\AppData\\Local\\Temp/ipykernel_14728/2712576492.py\u001b[0m in \u001b[0;36m<module>\u001b[1;34m\u001b[0m\n\u001b[1;32m----> 1\u001b[1;33m \u001b[0mgrand\u001b[0m\u001b[1;33m[\u001b[0m\u001b[1;36m500\u001b[0m\u001b[1;33m]\u001b[0m\u001b[1;33m[\u001b[0m\u001b[1;34m\"metadata\"\u001b[0m\u001b[1;33m]\u001b[0m\u001b[1;33m.\u001b[0m\u001b[0mkeys\u001b[0m\u001b[1;33m(\u001b[0m\u001b[1;33m)\u001b[0m\u001b[1;33m\u001b[0m\u001b[1;33m\u001b[0m\u001b[0m\n\u001b[0m",
      "\u001b[1;31mNameError\u001b[0m: name 'grand' is not defined"
     ]
    }
   ],
   "source": [
    "grand[500][\"metadata\"].keys()"
   ]
  },
  {
   "cell_type": "code",
   "execution_count": null,
   "id": "4352bb51",
   "metadata": {},
   "outputs": [],
   "source": []
  }
 ],
 "metadata": {
  "kernelspec": {
   "display_name": "Python 3 (ipykernel)",
   "language": "python",
   "name": "python3"
  },
  "language_info": {
   "codemirror_mode": {
    "name": "ipython",
    "version": 3
   },
   "file_extension": ".py",
   "mimetype": "text/x-python",
   "name": "python",
   "nbconvert_exporter": "python",
   "pygments_lexer": "ipython3",
   "version": "3.10.1"
  }
 },
 "nbformat": 4,
 "nbformat_minor": 5
}
